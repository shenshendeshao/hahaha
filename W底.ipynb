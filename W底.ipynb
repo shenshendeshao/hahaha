{
 "cells": [
  {
   "cell_type": "code",
   "execution_count": 1,
   "metadata": {},
   "outputs": [],
   "source": [
    "import baostock as bs\n",
    "import pandas as pd"
   ]
  },
  {
   "cell_type": "code",
   "execution_count": 2,
   "metadata": {},
   "outputs": [],
   "source": [
    "def get(stock_id):\n",
    "    lg = bs.login()\n",
    "    fields = \"date,open,high,low,close\"\n",
    "    df_bs =bs.query_history_k_data(stock_id, fields, start_date='2022-03-01',frequency=\"D\", adjustflag=\"2\")\n",
    "    \n",
    "    date_list = []\n",
    "    while (df_bs.error_code == '0') & df_bs.next():\n",
    "        date_list.append(df_bs.get_row_data())\n",
    "\n",
    "    result = pd.DataFrame(date_list, columns = df_bs.fields)\n",
    "    result.close = result.close.astype('float64')               #收盘\n",
    "    result.open = result.open.astype('float64')                 #开盘\n",
    "    result.high = result.high.astype('float64')                 #最高\n",
    "    result.low = result.low.astype('float64')                   #最低\n",
    "    #result.volume = result.volume.astype('float64')             #成交量\n",
    "    #result.pctChg = result.pctChg.astype('float64')             #涨跌百分比\n",
    "\n",
    "\n",
    "    df = result[-100:]                                  #读取过去近半年数据（100天）\n",
    "    df.reset_index(drop = True,inplace = True)\n",
    "    ID = stock_id[3:]\n",
    "    return df,ID"
   ]
  },
  {
   "cell_type": "code",
   "execution_count": 19,
   "metadata": {},
   "outputs": [],
   "source": [
    "def identify_double_bottom(df, inter):\n",
    "    \"\"\"Identifies the double bottom pattern in a dataframe\"\"\"\n",
    "    \n",
    " \n",
    "    if not all(col in df.columns for col in ['date', 'open', 'close', 'high', 'low']):\n",
    "        raise ValueError(\"Dataframe is missing required columns\")\n",
    "    \n",
    "    \n",
    "    bottoms = pd.DataFrame(columns=['date', 'open', 'high', 'low', 'close'])\n",
    "    \n",
    "    for i in range(2, len(df) - 2):\n",
    "        if (df.loc[i, 'low'] < df.loc[i-2, 'low'] and\n",
    "            df.loc[i, 'low'] <= df.loc[i-1, 'low'] and\n",
    "            df.loc[i, 'low'] <= df.loc[i+1, 'low'] and\n",
    "            df.loc[i, 'low'] < df.loc[i+2, 'low']):\n",
    "            bottoms = bottoms.append(df.loc[i,:])\n",
    "    \n",
    "    # 找出区间内最低和次低的两个底部\n",
    "    if len(bottoms) >= 2:\n",
    "        bottom1 = bottoms.loc[bottoms['low'].idxmin()]\n",
    "        \n",
    "        bottoms_no1 = bottoms.loc[(bottoms['low'] != bottom1['low'])]\n",
    "        \n",
    "        bottom2 = bottoms_no1.loc[bottoms_no1['low'].idxmin()]\n",
    "        \n",
    "        bottom1_open_close = bottom1[['open', 'close']].min()\n",
    "        \n",
    "        # 次低的低点低于最低的K线实体下沿\n",
    "        is_valid_1 = bottom2['low'] <= bottom1_open_close\n",
    "        \n",
    "        \n",
    "        #两个底部之间的间隔交易日数,并且大于间隔参数  \n",
    "        if bottom1['date'] > bottom2['date']:\n",
    "            bottom_distance = len(df[df['date'] > bottom2['date']][df['date'] <bottom1['date']] )\n",
    "            is_valid_2 = bottom_distance >= inter\n",
    "                   \n",
    "        else: \n",
    "            bottom_distance = len(df[df['date'] > bottom1['date']][df['date'] <bottom2['date']] )   \n",
    "            is_valid_2 = bottom_distance >= inter\n",
    "    \n",
    "        # 当日收盘价大于最近一个底部5%以上\n",
    "        is_valid_3 = df.iloc[-1]['close'] >= bottoms.iloc[-1]['low']*1.05\n",
    "    \n",
    "    \n",
    "    \n",
    "        #双底中的其中一个底部需为最近一个底部\n",
    "        is_valid_4 = (bottoms.iloc[-1]['date'] == bottom1['date'] or bottoms.iloc[-1]['date'] == bottom2['date'])\n",
    "    \n",
    "    else:\n",
    "        is_valid_1 = False\n",
    "        is_valid_2 = False\n",
    "        is_valid_3 = False\n",
    "        is_valid_4 = False\n",
    "    \n",
    "    \n",
    "\n",
    "    if (is_valid_1 and is_valid_2 and is_valid_3 and is_valid_4):\n",
    "        return True, (bottom1['date'], bottom2['date'])\n",
    "    else:\n",
    "        return False, None"
   ]
  },
  {
   "cell_type": "code",
   "execution_count": 4,
   "metadata": {},
   "outputs": [],
   "source": [
    "sh_id = pd.read_csv('C:/',dtype=str)\n",
    "sz_id = pd.read_csv('C:/',dtype=str)"
   ]
  },
  {
   "cell_type": "code",
   "execution_count": null,
   "metadata": {},
   "outputs": [],
   "source": [
    "SH = []\n",
    "for ID in sh_id['code']:\n",
    "    df = get(ID)[0]\n",
    "    dis = 15\n",
    "    \n",
    "    if identify_double_bottom(df,dis)[0] and len(SH)<10:\n",
    "        \n",
    "        SH.append([ID,identify_double_bottom(df,dis)[1]])\n",
    "        \n",
    "    elif len(SH)==10:\n",
    "        break"
   ]
  },
  {
   "cell_type": "code",
   "execution_count": null,
   "metadata": {},
   "outputs": [],
   "source": [
    "SZ = []\n",
    "for ID in sz_id['code']:\n",
    "    df = get(ID)[0]\n",
    "    dis = 15\n",
    "    \n",
    "    if identify_double_bottom(df,dis)[0] and len(SZ)<10:\n",
    "        \n",
    "        SZ.append([ID,identify_double_bottom(df,dis)[1]])\n",
    "        \n",
    "    elif len(SZ)==10:\n",
    "        break"
   ]
  }
 ],
 "metadata": {
  "kernelspec": {
   "display_name": "Python 3",
   "language": "python",
   "name": "python3"
  },
  "language_info": {
   "codemirror_mode": {
    "name": "ipython",
    "version": 3
   },
   "file_extension": ".py",
   "mimetype": "text/x-python",
   "name": "python",
   "nbconvert_exporter": "python",
   "pygments_lexer": "ipython3",
   "version": "3.8.3"
  }
 },
 "nbformat": 4,
 "nbformat_minor": 4
}
